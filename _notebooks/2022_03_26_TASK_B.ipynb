{
  "nbformat": 4,
  "nbformat_minor": 0,
  "metadata": {
    "colab": {
      "name": "2022-03-26_TASK_B.ipynb",
      "provenance": [],
      "authorship_tag": "ABX9TyM2nAyUYmNCE4RmFl0KIBIZ"
    },
    "kernelspec": {
      "name": "python3",
      "display_name": "Python 3"
    },
    "language_info": {
      "name": "python"
    }
  },
  "cells": [
    {
      "cell_type": "markdown",
      "source": [
        "# \"Interaction Design Mini-Project Task-B\"\n",
        "> \"Task - B\"\n",
        "\n",
        "- toc:false\n",
        "- branch: master\n",
        "- badges: true\n",
        "- comments: true\n",
        "- author: Vishal\n",
        "- categories: [Interacction Design, UI/UX, IxD]\n",
        "- sticky_rank: 2"
      ],
      "metadata": {
        "id": "_8f931daU2Bq"
      }
    },
    {
      "cell_type": "markdown",
      "source": [
        "# TASK B - MAPPING AND ASSESSING THE EXPERIENCES:\n",
        "\n",
        "## What's working well? 😁\n",
        "\n",
        "- **Accessibility**: Due to some great policymaking and change in lifestyle of people, education is very accessible for most of people in this part of country compared to before\n",
        "\n",
        "- **Content**: The content of the lessons - textbooks and other study materials are mostly upto date and updated frequently. \n",
        "\n",
        "\n",
        "## What could have been better? 😐\n",
        "\n",
        "- **Content Delivery**: STEM lectures are delivered in rigorous symbolic math way. While it is the least ambiguous way to define a phenomenon, it is very difficult to follow. \n",
        "\n",
        "- **Feedback loop**: Current modality of the classroom does very little to incentivise the gaining of knowledge. We know that anything that isn't incentivising becomes a chore. \n",
        "\n",
        "## What is broken? 😥\n",
        "\n",
        "- **Evaluation methods**: The current evaluation gives no room for error. There are no second chances. According to super mario effect, \"*if you don’t see failing in a negative light, you are more apt to keep trying, see more success, and learn more*\". This is totally contrary to modern classrooms, where failure is a serious handicap.\n",
        "\n",
        "- **Toxic environment**: Peer pressure is almost intolerable in modern classrooms. The places which are supposed to be construction sites, where everyone will try to build something significant, turns to *crab bucket* where everyone pull eachother down to come upon the top. "
      ],
      "metadata": {
        "id": "2-ZbWx6pVFt2"
      }
    },
    {
      "cell_type": "markdown",
      "source": [
        "## Remarks:\n",
        "\n",
        "We can't help but to draw parallels with entertainment industry. Movies, Novels, Video games tick almost all the boxes mentioned above.\n",
        "\n",
        "\n",
        "*   While Novels require particular level of maturity and videogames require particular level of fortune, movies are **accessible** for almost everybody \n",
        "\n",
        "*   There is always a psychlogical **incentive** for watching a movie, playing a game or reading a novel. Infact that's why they're considered addictive. \n",
        "\n",
        "*   All these things are designed and written in such a way that it is **very engaging** to follow. \n",
        "\n",
        "*   While there is no evaluation for retention of information from movies and novels, videogames require that. All the good games require you to learn from the experience it throws at you. But videogames are forgiving. We can always try again when we fail in an videogame. \n",
        "\n",
        "*   As said before, there is nothing significant such as environment in movies and novels, but it exists for videogames. It is true that, some online games have toxic playerbases. But there are lot of them with helpful community behind them. \n",
        "\n",
        "*   Besides, there are lot of movies and novels that created a cultural and social impacts. So, we can't just ignore them as \"*just entertainment*\". \n",
        "\n",
        "\n",
        "Seeing that entertainment industry does lot of things right, perhaps we should rethink classroom experience along in their line of thought. \n"
      ],
      "metadata": {
        "id": "HUL8o3QazbbW"
      }
    }
  ]
}