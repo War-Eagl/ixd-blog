{
  "nbformat": 4,
  "nbformat_minor": 0,
  "metadata": {
    "colab": {
      "name": "2022-03-22_TASK_A.ipynb",
      "provenance": [],
      "authorship_tag": "ABX9TyPWeoIh0yWsffMtU9hUAYtA",
      "include_colab_link": true
    },
    "kernelspec": {
      "name": "python3",
      "display_name": "Python 3"
    },
    "language_info": {
      "name": "python"
    }
  },
  "cells": [
    {
      "cell_type": "markdown",
      "metadata": {
        "id": "view-in-github",
        "colab_type": "text"
      },
      "source": [
        "<a href=\"https://colab.research.google.com/github/War-Eagl/ixd-blog/blob/master/_notebooks/2022_03_22_TASK_A.ipynb\" target=\"_parent\"><img src=\"https://colab.research.google.com/assets/colab-badge.svg\" alt=\"Open In Colab\"/></a>"
      ]
    },
    {
      "cell_type": "markdown",
      "source": [
        "# \"Interaction Design Mini-Project\"\n",
        "> \"Task - A\"\n",
        "\n",
        "- toc: false\n",
        "- branch: master\n",
        "- badges: true\n",
        "- comments: true\n",
        "- hide: false\n",
        "- sticky_rank: 1\n"
      ],
      "metadata": {
        "id": "kDVAKJGTKV03"
      }
    },
    {
      "cell_type": "markdown",
      "source": [
        "# TASK - A : Discovery"
      ],
      "metadata": {
        "id": "ASuIVRmJLGjd"
      }
    },
    {
      "cell_type": "markdown",
      "source": [
        "## Problem Statement:\n",
        "\n",
        "   A lot of lessons in schools and colleges are unengaging, stress inducing and intolerant to failures. Our goal is to create make them engaging and fun. \n",
        "\n",
        "## Discovery Summary:\n",
        "\n",
        "\n",
        "\n",
        "*   The modality in which the lectures are delivered in most of STEM classes are unengaging and stress inducing. Our goal is to bring the pleasure in knowledge discovery accessible for everyone.\n",
        "*   **Place**: Schools, Colleges, Educational institutions, etc.,\n",
        "*   **Time**: As the modality of delivering lectures can't be changed in a single day, we're planning for solutions in near future (3+ years)\n",
        "\n",
        "\n",
        "\n",
        "## Pain Points:\n",
        "\n",
        "\n",
        "\n",
        "*   STEM lectures are still based on principles that are several decades old (When education is accessible only for elite class of people)\n",
        "*   It doesn't do enough to accomodate modern students, who come from wide range of classes and have wide range of needs. \n",
        "*   Doesn't provide an engagement like a cinema or novel could provide (which are adapted to accomodate modern audiences)\n",
        "*   Accompanied with its notorious test methods, this modality of education is known to be stress inducing. \n",
        "*   It is also known to produce severe mental health conditions and even suicidal tendencies in several cases. \n",
        "\n",
        "\n",
        "## Storyboard:\n",
        "\n",
        "![sb1.png](https://i.ibb.co/Y8Gj2tZ/sb1.png)\n",
        "\n"
      ],
      "metadata": {
        "id": "FE9U6YDdLNsd"
      }
    }
  ]
}
