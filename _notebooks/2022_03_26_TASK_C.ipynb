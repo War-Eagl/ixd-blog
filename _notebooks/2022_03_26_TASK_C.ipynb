{
  "nbformat": 4,
  "nbformat_minor": 0,
  "metadata": {
    "colab": {
      "name": "2022-03-26_TASK_C.ipynb",
      "provenance": [],
      "authorship_tag": "ABX9TyM/eQrvfEOotl/7rfQyeV/x"
    },
    "kernelspec": {
      "name": "python3",
      "display_name": "Python 3"
    },
    "language_info": {
      "name": "python"
    }
  },
  "cells": [
    {
      "cell_type": "markdown",
      "source": [
        "# \"Interaction Design Mini-Project Task-C\"\n",
        "> \"Task - C\"\n",
        "\n",
        "- toc:false\n",
        "- branch: master\n",
        "- badges: true\n",
        "- comments: true\n",
        "- author: Vishal\n",
        "- categories: [Interacction Design, UI/UX, IxD]\n",
        "- sticky_rank: 3"
      ],
      "metadata": {
        "id": "bYKtr7quBNfm"
      }
    },
    {
      "cell_type": "markdown",
      "source": [
        "# TASK C\n",
        "\n",
        "Let us create a persona of a student and follow him through a series of memes. \n",
        " \n",
        "\n",
        "\n",
        ">Say hello to Bob...\n",
        "\n",
        "![](https://i.imgflip.com/6a6cev.jpg)\n",
        "\n",
        "\n",
        ">Meanwhile in XYZ school....\n",
        "\n",
        "![](https://i.imgflip.com/6a6cot.jpg)\n",
        "\n",
        ">Bob rigorously crunches numbers to solve something he didn't understand. He just sees equations as random symbols thrown around.\n",
        "\n",
        "![](https://i.imgflip.com/6a6cup.jpg)\n",
        "\n",
        ">In Bob's school failure is not tolerated...\n",
        "\n",
        "![](https://i.imgflip.com/6a6d4y.jpg)\n",
        "\n",
        ">...People who doesn't succeed are seen as handicaps...\n",
        "\n",
        "![](https://i.imgflip.com/6a6dfe.jpg)\n",
        "\n",
        ">Eventually Bob takes the **wrong turn**"
      ],
      "metadata": {
        "id": "CC4lOzJzBYG3"
      }
    },
    {
      "cell_type": "markdown",
      "source": [
        "Though the end seems little bit exaggerated, there are lot of students who give up their dreams just because failure is not tolerated. So based on these, let us see the pain points in the order of increasing intensity:\n",
        "\n",
        "\n",
        "* Unengaging content delivery\n",
        "* Using hardest way to explain something (tedious math)\n",
        "* No room for failure. \n",
        "* Students who fail are seen low by fellow students\n",
        "* Toxic environment where marks matter more than learning. \n",
        "* Killing dreams of students."
      ],
      "metadata": {
        "id": "4M7HZ6FWE0JK"
      }
    }
  ]
}